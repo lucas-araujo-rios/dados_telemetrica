{
 "cells": [
  {
   "cell_type": "markdown",
   "metadata": {},
   "source": [
    "testando"
   ]
  },
  {
   "cell_type": "code",
   "execution_count": null,
   "metadata": {},
   "outputs": [],
   "source": [
    "from pandas import pd\n",
    "import requests\n",
    "\n",
    "def baixar_arquivo(url,pasta_destino):\n",
    "    resposta = requests.get(url)\n",
    "    with open()\n",
    "\n",
    "nome_arquivos = [\n",
    "    'empreendimento-geraca-distribuida.csv',\n",
    "    'empreendimento-gd-informacoes-tecnicas-eolica.csv',\n",
    "    'empreendimento-gd-informacoes-tecnicas-fotovoltaica.csv',\n",
    "    'empreendimento-gd-informacoes-tecnicas-hidreletrica.csv',\n",
    "    'empreendimento-gd-informacoes-tecnicas-telemetrica.csv'\n",
    "    ]\n",
    "\n",
    "for arquivo in nome_arquivos:\n",
    "    baixar_arquivo(\n",
    "        f'https://dadosabertos.aneel.gov.br/dataset/5e0fafd2-21b9-4d5b-b622-40438d40aba2/resource/b1bd71e7-d0ad-4214-9053-cbd58e9564a7/download/{arquivo}',\n",
    "        pasta_destino)"
   ]
  }
 ],
 "metadata": {
  "language_info": {
   "name": "python"
  }
 },
 "nbformat": 4,
 "nbformat_minor": 2
}
